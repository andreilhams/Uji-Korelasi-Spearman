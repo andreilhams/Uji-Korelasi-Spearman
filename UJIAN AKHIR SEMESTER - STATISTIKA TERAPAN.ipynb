{
 "cells": [
  {
   "cell_type": "markdown",
   "id": "a7507924",
   "metadata": {},
   "source": [
    "# Hubungan Body Mass Index (BMI) Terhadap Kadar Glukosa Dalam Darah Menggunakan Analisis Korelasi"
   ]
  },
  {
   "cell_type": "code",
   "execution_count": 1,
   "id": "f9109f46",
   "metadata": {},
   "outputs": [],
   "source": [
    "import statsmodels.formula.api as smf\n",
    "import statsmodels.stats.multicomp as multi\n",
    "import scipy\n",
    "from scipy.stats import pearsonr\n",
    "import pandas as pd\n",
    "from seaborn import regplot\n",
    "import matplotlib.pyplot as plt\n",
    "import numpy as np\n",
    "import seaborn as sns\n",
    "from scipy.stats import kstest, shapiro\n",
    "from scipy import stats"
   ]
  },
  {
   "cell_type": "code",
   "execution_count": 2,
   "id": "b01efc1a",
   "metadata": {},
   "outputs": [
    {
     "data": {
      "text/html": [
       "<div>\n",
       "<style scoped>\n",
       "    .dataframe tbody tr th:only-of-type {\n",
       "        vertical-align: middle;\n",
       "    }\n",
       "\n",
       "    .dataframe tbody tr th {\n",
       "        vertical-align: top;\n",
       "    }\n",
       "\n",
       "    .dataframe thead th {\n",
       "        text-align: right;\n",
       "    }\n",
       "</style>\n",
       "<table border=\"1\" class=\"dataframe\">\n",
       "  <thead>\n",
       "    <tr style=\"text-align: right;\">\n",
       "      <th></th>\n",
       "      <th>id</th>\n",
       "      <th>gender</th>\n",
       "      <th>age</th>\n",
       "      <th>hypertension</th>\n",
       "      <th>heart_disease</th>\n",
       "      <th>ever_married</th>\n",
       "      <th>work_type</th>\n",
       "      <th>Residence_type</th>\n",
       "      <th>avg_glucose_level</th>\n",
       "      <th>bmi</th>\n",
       "      <th>smoking_status</th>\n",
       "      <th>stroke</th>\n",
       "    </tr>\n",
       "  </thead>\n",
       "  <tbody>\n",
       "    <tr>\n",
       "      <th>0</th>\n",
       "      <td>9046</td>\n",
       "      <td>Male</td>\n",
       "      <td>67.0</td>\n",
       "      <td>0</td>\n",
       "      <td>1</td>\n",
       "      <td>Yes</td>\n",
       "      <td>Private</td>\n",
       "      <td>Urban</td>\n",
       "      <td>228.69</td>\n",
       "      <td>36.6</td>\n",
       "      <td>formerly smoked</td>\n",
       "      <td>1</td>\n",
       "    </tr>\n",
       "    <tr>\n",
       "      <th>1</th>\n",
       "      <td>51676</td>\n",
       "      <td>Female</td>\n",
       "      <td>61.0</td>\n",
       "      <td>0</td>\n",
       "      <td>0</td>\n",
       "      <td>Yes</td>\n",
       "      <td>Self-employed</td>\n",
       "      <td>Rural</td>\n",
       "      <td>202.21</td>\n",
       "      <td>NaN</td>\n",
       "      <td>never smoked</td>\n",
       "      <td>1</td>\n",
       "    </tr>\n",
       "    <tr>\n",
       "      <th>2</th>\n",
       "      <td>31112</td>\n",
       "      <td>Male</td>\n",
       "      <td>80.0</td>\n",
       "      <td>0</td>\n",
       "      <td>1</td>\n",
       "      <td>Yes</td>\n",
       "      <td>Private</td>\n",
       "      <td>Rural</td>\n",
       "      <td>105.92</td>\n",
       "      <td>32.5</td>\n",
       "      <td>never smoked</td>\n",
       "      <td>1</td>\n",
       "    </tr>\n",
       "    <tr>\n",
       "      <th>3</th>\n",
       "      <td>60182</td>\n",
       "      <td>Female</td>\n",
       "      <td>49.0</td>\n",
       "      <td>0</td>\n",
       "      <td>0</td>\n",
       "      <td>Yes</td>\n",
       "      <td>Private</td>\n",
       "      <td>Urban</td>\n",
       "      <td>171.23</td>\n",
       "      <td>34.4</td>\n",
       "      <td>smokes</td>\n",
       "      <td>1</td>\n",
       "    </tr>\n",
       "    <tr>\n",
       "      <th>4</th>\n",
       "      <td>1665</td>\n",
       "      <td>Female</td>\n",
       "      <td>79.0</td>\n",
       "      <td>1</td>\n",
       "      <td>0</td>\n",
       "      <td>Yes</td>\n",
       "      <td>Self-employed</td>\n",
       "      <td>Rural</td>\n",
       "      <td>174.12</td>\n",
       "      <td>24.0</td>\n",
       "      <td>never smoked</td>\n",
       "      <td>1</td>\n",
       "    </tr>\n",
       "    <tr>\n",
       "      <th>...</th>\n",
       "      <td>...</td>\n",
       "      <td>...</td>\n",
       "      <td>...</td>\n",
       "      <td>...</td>\n",
       "      <td>...</td>\n",
       "      <td>...</td>\n",
       "      <td>...</td>\n",
       "      <td>...</td>\n",
       "      <td>...</td>\n",
       "      <td>...</td>\n",
       "      <td>...</td>\n",
       "      <td>...</td>\n",
       "    </tr>\n",
       "    <tr>\n",
       "      <th>295</th>\n",
       "      <td>71379</td>\n",
       "      <td>Female</td>\n",
       "      <td>45.0</td>\n",
       "      <td>0</td>\n",
       "      <td>0</td>\n",
       "      <td>Yes</td>\n",
       "      <td>Govt_job</td>\n",
       "      <td>Urban</td>\n",
       "      <td>113.63</td>\n",
       "      <td>27.5</td>\n",
       "      <td>smokes</td>\n",
       "      <td>0</td>\n",
       "    </tr>\n",
       "    <tr>\n",
       "      <th>296</th>\n",
       "      <td>58261</td>\n",
       "      <td>Female</td>\n",
       "      <td>66.0</td>\n",
       "      <td>0</td>\n",
       "      <td>0</td>\n",
       "      <td>Yes</td>\n",
       "      <td>Private</td>\n",
       "      <td>Rural</td>\n",
       "      <td>141.24</td>\n",
       "      <td>28.5</td>\n",
       "      <td>never smoked</td>\n",
       "      <td>0</td>\n",
       "    </tr>\n",
       "    <tr>\n",
       "      <th>297</th>\n",
       "      <td>67318</td>\n",
       "      <td>Male</td>\n",
       "      <td>58.0</td>\n",
       "      <td>1</td>\n",
       "      <td>0</td>\n",
       "      <td>Yes</td>\n",
       "      <td>Govt_job</td>\n",
       "      <td>Rural</td>\n",
       "      <td>56.96</td>\n",
       "      <td>26.8</td>\n",
       "      <td>smokes</td>\n",
       "      <td>0</td>\n",
       "    </tr>\n",
       "    <tr>\n",
       "      <th>298</th>\n",
       "      <td>28526</td>\n",
       "      <td>Male</td>\n",
       "      <td>69.0</td>\n",
       "      <td>0</td>\n",
       "      <td>0</td>\n",
       "      <td>Yes</td>\n",
       "      <td>Self-employed</td>\n",
       "      <td>Rural</td>\n",
       "      <td>203.04</td>\n",
       "      <td>33.6</td>\n",
       "      <td>never smoked</td>\n",
       "      <td>0</td>\n",
       "    </tr>\n",
       "    <tr>\n",
       "      <th>299</th>\n",
       "      <td>8831</td>\n",
       "      <td>Female</td>\n",
       "      <td>58.0</td>\n",
       "      <td>0</td>\n",
       "      <td>0</td>\n",
       "      <td>Yes</td>\n",
       "      <td>Private</td>\n",
       "      <td>Rural</td>\n",
       "      <td>94.30</td>\n",
       "      <td>29.1</td>\n",
       "      <td>Unknown</td>\n",
       "      <td>0</td>\n",
       "    </tr>\n",
       "  </tbody>\n",
       "</table>\n",
       "<p>300 rows × 12 columns</p>\n",
       "</div>"
      ],
      "text/plain": [
       "        id  gender   age  hypertension  heart_disease ever_married  \\\n",
       "0     9046    Male  67.0             0              1          Yes   \n",
       "1    51676  Female  61.0             0              0          Yes   \n",
       "2    31112    Male  80.0             0              1          Yes   \n",
       "3    60182  Female  49.0             0              0          Yes   \n",
       "4     1665  Female  79.0             1              0          Yes   \n",
       "..     ...     ...   ...           ...            ...          ...   \n",
       "295  71379  Female  45.0             0              0          Yes   \n",
       "296  58261  Female  66.0             0              0          Yes   \n",
       "297  67318    Male  58.0             1              0          Yes   \n",
       "298  28526    Male  69.0             0              0          Yes   \n",
       "299   8831  Female  58.0             0              0          Yes   \n",
       "\n",
       "         work_type Residence_type  avg_glucose_level   bmi   smoking_status  \\\n",
       "0          Private          Urban             228.69  36.6  formerly smoked   \n",
       "1    Self-employed          Rural             202.21   NaN     never smoked   \n",
       "2          Private          Rural             105.92  32.5     never smoked   \n",
       "3          Private          Urban             171.23  34.4           smokes   \n",
       "4    Self-employed          Rural             174.12  24.0     never smoked   \n",
       "..             ...            ...                ...   ...              ...   \n",
       "295       Govt_job          Urban             113.63  27.5           smokes   \n",
       "296        Private          Rural             141.24  28.5     never smoked   \n",
       "297       Govt_job          Rural              56.96  26.8           smokes   \n",
       "298  Self-employed          Rural             203.04  33.6     never smoked   \n",
       "299        Private          Rural              94.30  29.1          Unknown   \n",
       "\n",
       "     stroke  \n",
       "0         1  \n",
       "1         1  \n",
       "2         1  \n",
       "3         1  \n",
       "4         1  \n",
       "..      ...  \n",
       "295       0  \n",
       "296       0  \n",
       "297       0  \n",
       "298       0  \n",
       "299       0  \n",
       "\n",
       "[300 rows x 12 columns]"
      ]
     },
     "execution_count": 2,
     "metadata": {},
     "output_type": "execute_result"
    }
   ],
   "source": [
    "df = pd.read_csv('datasetStroke.csv')\n",
    "df"
   ]
  },
  {
   "cell_type": "markdown",
   "id": "c4ad98a5",
   "metadata": {},
   "source": [
    "# Preprocessing Data"
   ]
  },
  {
   "cell_type": "code",
   "execution_count": 3,
   "id": "a2c58859",
   "metadata": {},
   "outputs": [
    {
     "name": "stdout",
     "output_type": "stream",
     "text": [
      "<class 'pandas.core.frame.DataFrame'>\n",
      "RangeIndex: 300 entries, 0 to 299\n",
      "Data columns (total 12 columns):\n",
      " #   Column             Non-Null Count  Dtype  \n",
      "---  ------             --------------  -----  \n",
      " 0   id                 300 non-null    int64  \n",
      " 1   gender             300 non-null    object \n",
      " 2   age                300 non-null    float64\n",
      " 3   hypertension       300 non-null    int64  \n",
      " 4   heart_disease      300 non-null    int64  \n",
      " 5   ever_married       300 non-null    object \n",
      " 6   work_type          300 non-null    object \n",
      " 7   Residence_type     300 non-null    object \n",
      " 8   avg_glucose_level  300 non-null    float64\n",
      " 9   bmi                260 non-null    float64\n",
      " 10  smoking_status     300 non-null    object \n",
      " 11  stroke             300 non-null    int64  \n",
      "dtypes: float64(3), int64(4), object(5)\n",
      "memory usage: 28.2+ KB\n"
     ]
    }
   ],
   "source": [
    "df.info()"
   ]
  },
  {
   "cell_type": "code",
   "execution_count": 4,
   "id": "0b85daa5",
   "metadata": {},
   "outputs": [
    {
     "data": {
      "text/plain": [
       "id                    0\n",
       "gender                0\n",
       "age                   0\n",
       "hypertension          0\n",
       "heart_disease         0\n",
       "ever_married          0\n",
       "work_type             0\n",
       "Residence_type        0\n",
       "avg_glucose_level     0\n",
       "bmi                  40\n",
       "smoking_status        0\n",
       "stroke                0\n",
       "dtype: int64"
      ]
     },
     "execution_count": 4,
     "metadata": {},
     "output_type": "execute_result"
    }
   ],
   "source": [
    "df.isna().sum()"
   ]
  },
  {
   "cell_type": "code",
   "execution_count": 5,
   "id": "f46530ed",
   "metadata": {},
   "outputs": [
    {
     "data": {
      "text/plain": [
       "0"
      ]
     },
     "execution_count": 5,
     "metadata": {},
     "output_type": "execute_result"
    }
   ],
   "source": [
    "# Langkah 1\n",
    "rata2 = df['bmi'].mean()\n",
    "# Langkah 2\n",
    "df['bmi'] = df['bmi'].fillna(rata2)\n",
    "# Langkah 3\n",
    "df['bmi'].isna().sum()"
   ]
  },
  {
   "cell_type": "code",
   "execution_count": 6,
   "id": "5c13e592",
   "metadata": {},
   "outputs": [
    {
     "data": {
      "text/plain": [
       "id                   0\n",
       "gender               0\n",
       "age                  0\n",
       "hypertension         0\n",
       "heart_disease        0\n",
       "ever_married         0\n",
       "work_type            0\n",
       "Residence_type       0\n",
       "avg_glucose_level    0\n",
       "bmi                  0\n",
       "smoking_status       0\n",
       "stroke               0\n",
       "dtype: int64"
      ]
     },
     "execution_count": 6,
     "metadata": {},
     "output_type": "execute_result"
    }
   ],
   "source": [
    "df.isna().sum()"
   ]
  },
  {
   "cell_type": "markdown",
   "id": "49e58756",
   "metadata": {},
   "source": [
    "# Uji Normalitas"
   ]
  },
  {
   "cell_type": "markdown",
   "id": "c932e61d",
   "metadata": {},
   "source": [
    "#Misalkan ditentukan level signifikansi 5% atau 0.05. Hipotesisnya adalah:\n",
    "\n",
    "H0 = Data terdistribusi normal\n",
    "H1 = Data tidak terdistribusi normal"
   ]
  },
  {
   "cell_type": "code",
   "execution_count": 7,
   "id": "358ce7f2",
   "metadata": {},
   "outputs": [
    {
     "data": {
      "image/png": "[encoded data removed]",
      "text/plain": [
       "<Figure size 360x360 with 1 Axes>"
      ]
     },
     "metadata": {
      "needs_background": "light"
     },
     "output_type": "display_data"
    }
   ],
   "source": [
    "#Menggunakan Plot Visualisasi\n",
    "sns.lmplot(x=\"bmi\", y=\"avg_glucose_level\", data=df, fit_reg=False)\n",
    "plt.title(\"Hubungan index massa tubuh Terhadap \\n kadar glukosa rata-rata dalam darah\")\n",
    "plt.show()"
   ]
  },
  {
   "cell_type": "code",
   "execution_count": 9,
   "id": "9f8b5cc0",
   "metadata": {},
   "outputs": [
    {
     "name": "stdout",
     "output_type": "stream",
     "text": [
      "Hasil Uji Normalitas pada kadar glukosa rata-rata dalam darah\n",
      "___________________________________________________________________________________________________\n",
      "ShapiroResult(statistic=0.8673970699310303, pvalue=2.203756323815851e-15)\n",
      "\n",
      " \n",
      "Hasil Uji Normalitas pada  indeks massa tubuh\n",
      "____________________________________________________________________________________________________\n",
      "ShapiroResult(statistic=0.9316027760505676, pvalue=1.6001060199055672e-10)\n"
     ]
    }
   ],
   "source": [
    "#Menggunakan Uji Shapiro-Wilk (shapiro)\n",
    "swdata1 = shapiro(df['avg_glucose_level'])\n",
    "swdata2 = shapiro(df['bmi'])\n",
    "\n",
    "print(\"Hasil Uji Normalitas pada kadar glukosa rata-rata dalam darah\")\n",
    "print(\"___________________________________________________________________________________________________\")\n",
    "print(swdata1)\n",
    "print(\"\\n \\nHasil Uji Normalitas pada  indeks massa tubuh\")\n",
    "print(\"____________________________________________________________________________________________________\")\n",
    "print(swdata2)"
   ]
  },
  {
   "cell_type": "markdown",
   "id": "16134a5e",
   "metadata": {},
   "source": [
    "**Penjelasan:** Dari metode uji normalitas menggunakan uji Shapiro-Wilk pada gambar 6 di atas menunjukkan bahwa pvalue kurang dari 0.05 untuk kedua variabel baik itu “avg_glucose_level” maupun pada “bmi”. Sehingga H0 ditolak dan H1 diterima. Hal ini mengindikasikan bahwa data tidak terdistribusi normal. Oleh karena itu tidak dapat dilakukan uji korelasi dengan jenis uji pada statistik non-parametrik. Sehingga untuk melihat ada atau tidaknya hubungan atau korelasi antar 2 variabel ini dapat digunakan uji statistik non-parametrik salah satunya yaitu uji korelasi spearman. "
   ]
  },
  {
   "cell_type": "markdown",
   "id": "211bc125",
   "metadata": {},
   "source": [
    "# Uji Korelasi Spearman"
   ]
  },
  {
   "cell_type": "markdown",
   "id": "d66349f5",
   "metadata": {},
   "source": [
    "Hipotesis untuk data ini yaitu:\n",
    "H0 : tidak ada korelasi antara tingkat kadar glukosa dalam darah dengan index massa tubuh (bmi)\n",
    "H1 : ada korelasi antara tingkat kadar glukosa dalam darah dengan index massa tubuh (bmi)\n",
    "\n",
    "Jika p value > 0.05 maka H0 diterima dan H1 ditolak\n",
    "Jika p value < 0.05 maka H0 ditolak dan H1 diterima"
   ]
  },
  {
   "cell_type": "code",
   "execution_count": 10,
   "id": "3052629a",
   "metadata": {},
   "outputs": [
    {
     "data": {
      "image/png": "[encoded data removed]",
      "text/plain": [
       "<Figure size 432x288 with 1 Axes>"
      ]
     },
     "metadata": {
      "needs_background": "light"
     },
     "output_type": "display_data"
    }
   ],
   "source": [
    "#Plot visualisasi arah regresi\n",
    "def plt_regression(x, y, data, label_1, label_2): \n",
    "    reg_plot = regplot(x=x, y=y, fit_reg=True, data=data, line_kws={'color': 'red'}, scatter_kws= {'color': 'green'}) \n",
    "    plt.xlabel(label_1) \n",
    "    plt.ylabel(label_2) \n",
    "\n",
    "plt.show() \n",
    "plt_regression('bmi', 'avg_glucose_level', df,\n",
    "               'index massa tubuh', 'kadar glukosa rata-rata dalam darah')"
   ]
  },
  {
   "cell_type": "code",
   "execution_count": 11,
   "id": "fc122211",
   "metadata": {},
   "outputs": [
    {
     "name": "stdout",
     "output_type": "stream",
     "text": [
      "SpearmanrResult(correlation=0.2715798173752017, pvalue=1.803393065842682e-06)\n"
     ]
    }
   ],
   "source": [
    "print(stats.spearmanr(df['avg_glucose_level'], df['bmi'])) "
   ]
  },
  {
   "cell_type": "markdown",
   "id": "0dac0a43",
   "metadata": {},
   "source": [
    "**Penjelasan:** Berdasarkan visualisasi dan analisis korelasi spearman yang menghasilkan nilai pvalue lebih kecil dari ∝ sehingga tolak H0 dan terima H1 mengindikasikan bahwa ada korelasi bermakna antara body mass index terhadap kadar glukosa dalam darah. Untuk Hubungan sebab akibat ditunjukkan dengan tanda positif atau negatif dari koefisien korelasi. Dari hasil di atas dapat dilihat bahwa koefisien korelasi antara tingkat kolestrol dan BMI adalah 0.27 (tanda positif). Hal ini berarti semakin tinggi kadar glukosa dalam darah, maka BMI akan semakin meningkat, begitupun sebaliknya."
   ]
  }
 ],
 "metadata": {
  "kernelspec": {
   "display_name": "Python 3 (ipykernel)",
   "language": "python",
   "name": "python3"
  },
  "language_info": {
   "codemirror_mode": {
    "name": "ipython",
    "version": 3
   },
   "file_extension": ".py",
   "mimetype": "text/x-python",
   "name": "python",
   "nbconvert_exporter": "python",
   "pygments_lexer": "ipython3",
   "version": "3.8.12"
  }
 },
 "nbformat": 4,
 "nbformat_minor": 5
}
